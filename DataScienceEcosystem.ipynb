{
 "cells": [
  {
   "cell_type": "markdown",
   "id": "65e443e8-52ba-4404-98e2-3add44cac7b9",
   "metadata": {},
   "source": [
    "# Data Science Tools and Ecosystem"
   ]
  },
  {
   "cell_type": "markdown",
   "id": "fce4c51e-e12b-48e5-b052-de2fdbcc03ce",
   "metadata": {},
   "source": [
    "### In this notebook, Data Science Tools and Ecosystem are summarized"
   ]
  },
  {
   "cell_type": "markdown",
   "id": "acfd910f-d4be-4a0d-b96b-a519e7a7bb33",
   "metadata": {},
   "source": [
    "**Objectives:**\n",
    "\n",
    "- Create a Jupyter Notebook\n",
    "- List popular languages for Data Science\n",
    "- How to insert code and markdown cell\n",
    "- Share your notebook through GitHub\n"
   ]
  },
  {
   "cell_type": "markdown",
   "id": "15481e29-3d6d-493c-a8a1-c1e6dedb9271",
   "metadata": {},
   "source": [
    "#### Some of the popular languages that Data Scientists use are:\n",
    "1. Python\n",
    "2. R\n",
    "3. C++"
   ]
  },
  {
   "cell_type": "markdown",
   "id": "dc1b43d1-93e9-40f1-bde1-6203e9dd80e1",
   "metadata": {},
   "source": [
    "#### Some of the commonly used libraries used by Data Scientists include:\n",
    "1. Pandas\n",
    "2. NumPy\n",
    "3. SciPy\n",
    "4. Scikit-learn\n",
    "5. Matplotlib"
   ]
  },
  {
   "cell_type": "markdown",
   "id": "abc35562-d4d8-4d6f-9418-f45700898be3",
   "metadata": {},
   "source": [
    "| Data Science Tools       |\n",
    "|--------------------------|\n",
    "| Jupyter Notebook          |\n",
    "| RStudio                  |\n",
    "| Apache Zeppelin          |\n"
   ]
  },
  {
   "cell_type": "markdown",
   "id": "917222ed-d3fc-49f8-9ad9-b523ed6dc939",
   "metadata": {},
   "source": [
    "### Below are a few examples of evaluating arithmetic expressions in Python\r\n",
    "\r\n",
    "```python\r\n",
    "2 + 2\r\n",
    "3 * 6\r\n",
    "4 - 7 / 4\r\n",
    "\n"
   ]
  },
  {
   "cell_type": "code",
   "execution_count": 19,
   "id": "a19328c2-277c-4e52-812c-3215ec10a1a2",
   "metadata": {},
   "outputs": [
    {
     "data": {
      "text/plain": [
       "17"
      ]
     },
     "execution_count": 19,
     "metadata": {},
     "output_type": "execute_result"
    }
   ],
   "source": [
    "(3*4)+5"
   ]
  },
  {
   "cell_type": "code",
   "execution_count": 25,
   "id": "9c601cde-53d2-4d81-93a5-adcd85ebc652",
   "metadata": {},
   "outputs": [
    {
     "data": {
      "text/plain": [
       "3.3333333333333335"
      ]
     },
     "execution_count": 25,
     "metadata": {},
     "output_type": "execute_result"
    }
   ],
   "source": [
    "# This will convert 200 minutes to hours by diving by 60\n",
    "\n",
    "def min_hr(m):\n",
    "    return m/60\n",
    "\n",
    "min_hr(200)"
   ]
  },
  {
   "cell_type": "markdown",
   "id": "6425a905-2a1a-4ff3-8366-fdbd27114450",
   "metadata": {},
   "source": [
    "## Author\n",
    "-Habibu Ahmad"
   ]
  }
 ],
 "metadata": {
  "kernelspec": {
   "display_name": "anaconda-2024.02-py310",
   "language": "python",
   "name": "conda-env-anaconda-2024.02-py310-py"
  },
  "language_info": {
   "codemirror_mode": {
    "name": "ipython",
    "version": 3
   },
   "file_extension": ".py",
   "mimetype": "text/x-python",
   "name": "python",
   "nbconvert_exporter": "python",
   "pygments_lexer": "ipython3",
   "version": "3.10.14"
  }
 },
 "nbformat": 4,
 "nbformat_minor": 5
}
